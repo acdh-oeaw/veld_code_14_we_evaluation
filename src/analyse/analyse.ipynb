{
 "cells": [
  {
   "cell_type": "code",
   "execution_count": 5,
   "id": "56d65147-ef8d-46b1-a803-9c26d95a8d3a",
   "metadata": {},
   "outputs": [
    {
     "name": "stderr",
     "output_type": "stream",
     "text": [
      "41.01s - pydevd: Sending message related to process being replaced timed-out after 5 seconds\n"
     ]
    },
    {
     "name": "stdout",
     "output_type": "stream",
     "text": [
      "logs  summary.yaml\n"
     ]
    }
   ],
   "source": [
    "!ls /veld/input/"
   ]
  },
  {
   "cell_type": "code",
   "execution_count": 227,
   "id": "26c5cd12-c222-4973-af55-8a931bf2bec5",
   "metadata": {},
   "outputs": [],
   "source": [
    "import os\n",
    "import yaml\n",
    "import plotly.graph_objects as go\n",
    "import pandas as pd"
   ]
  },
  {
   "cell_type": "code",
   "execution_count": 7,
   "id": "3a2dfe02-5504-41c2-ab6d-3da197da04da",
   "metadata": {},
   "outputs": [],
   "source": [
    "IN_EVALUATION_SUMMARY_FILE = \"/veld/input/\" + os.getenv(\"in_evaluation_summary_file\")"
   ]
  },
  {
   "cell_type": "code",
   "execution_count": 8,
   "id": "ec6a35f6-7186-4791-a217-881797d396eb",
   "metadata": {},
   "outputs": [
    {
     "name": "stdout",
     "output_type": "stream",
     "text": [
      "IN_EVALUATION_SUMMARY_FILE: /veld/input/summary.yaml\n"
     ]
    }
   ],
   "source": [
    "print(f\"IN_EVALUATION_SUMMARY_FILE: {IN_EVALUATION_SUMMARY_FILE}\")"
   ]
  },
  {
   "cell_type": "code",
   "execution_count": 9,
   "id": "0fa4f62e-5b4e-4808-b582-d9523fda78c1",
   "metadata": {},
   "outputs": [],
   "source": [
    "with open(IN_EVALUATION_SUMMARY_FILE, \"r\") as file_in:\n",
    "    eval_summary = yaml.safe_load(file_in)"
   ]
  },
  {
   "cell_type": "code",
   "execution_count": 43,
   "id": "68618f9d-1483-48be-9bb9-0ab17ed502fa",
   "metadata": {},
   "outputs": [
    {
     "data": {
      "text/plain": [
       "{'fasttext': {'m1': {'eval_gold_data': 'eval_data_lowercase.yaml',\n",
       "   'model_details': {'training_description': 'test training',\n",
       "    'train_data_description': '10% sample of german wikipedia, single txt, one sentence per line, lowercased, removed punctuation',\n",
       "    'train_data_size': '685M',\n",
       "    'train_data_md5_hash': '9683602ee186844125ed90eff1fb2dff',\n",
       "    'training_epochs': 10,\n",
       "    'training_vector_size': 200,\n",
       "    'training_duration (minutes)': 37.0,\n",
       "    'model_data_size': '2.4G'},\n",
       "   'score': {'synonyms': 0.03999999910593033,\n",
       "    'homonyms': 0.09000000357627869,\n",
       "    'antonyms': -0.03999999910593033}},\n",
       "  'm2': {'eval_gold_data': 'eval_data_lowercase.yaml',\n",
       "   'model_details': {'training_description': 'test training',\n",
       "    'train_data_description': '10% sample of german wikipedia, single txt, one sentence per line, lowercased, removed punctuation',\n",
       "    'train_data_size': '685M',\n",
       "    'train_data_md5_hash': '9683602ee186844125ed90eff1fb2dff',\n",
       "    'training_epochs': 100,\n",
       "    'training_vector_size': 200,\n",
       "    'training_duration (minutes)': 371.9,\n",
       "    'model_data_size': '2.4G'},\n",
       "   'score': {'synonyms': 0.05999999865889549,\n",
       "    'homonyms': 0.10000000149011612,\n",
       "    'antonyms': -0.05999999865889549}}},\n",
       " 'word2vec': {'m1': {'eval_gold_data': 'eval_data_lowercase.yaml',\n",
       "   'model_details': {'training_description': 'word2vec test model',\n",
       "    'train_data_description': '10% sample of german wikipedia, single txt, one sentence per line, lowercased, removed punctuation',\n",
       "    'train_data_size': '685M',\n",
       "    'train_data_md5_hash': '9683602ee186844125ed90eff1fb2dff',\n",
       "    'training_vector_size': 200,\n",
       "    'training_epochs': 10,\n",
       "    'window': 5,\n",
       "    'min_count': 5,\n",
       "    'training_duration (minutes)': 43.6,\n",
       "    'model_data_size': '19M'},\n",
       "   'score': {'synonyms': 0.09, 'homonyms': 0.05, 'antonyms': -0.08}},\n",
       "  'm2': {'eval_gold_data': 'eval_data_lowercase.yaml',\n",
       "   'model_details': {'training_description': 'word2vec test model',\n",
       "    'train_data_description': '10% sample of german wikipedia, single txt, one sentence per line, lowercased, removed punctuation',\n",
       "    'train_data_size': '685M',\n",
       "    'train_data_md5_hash': '9683602ee186844125ed90eff1fb2dff',\n",
       "    'training_vector_size': 200,\n",
       "    'training_epochs': 100,\n",
       "    'window': 5,\n",
       "    'min_count': 5,\n",
       "    'training_duration (minutes)': 215.8,\n",
       "    'model_data_size': '19M'},\n",
       "   'score': {'synonyms': 0.08, 'homonyms': 0.04, 'antonyms': -0.07}}},\n",
       " 'glove': {'m1': {'eval_gold_data': 'eval_data_lowercase.yaml',\n",
       "   'model_details': {'training_description': 'glove test model',\n",
       "    'train_data_description': '10% sample of german wikipedia, single txt, one article per line, lowercased, removed punctuation',\n",
       "    'train_data_size': '679M',\n",
       "    'train_data_md5_hash': '09bd7f10c1437cc41e32fdda80ba4a34',\n",
       "    'verbose': '2',\n",
       "    'memory': '4',\n",
       "    'vocab_min_count': '5',\n",
       "    'vector_size': '200',\n",
       "    'max_iter': '10',\n",
       "    'window_size': '15',\n",
       "    'binary': '2',\n",
       "    'num_threads': '14',\n",
       "    'x_max': '10',\n",
       "    'training_duration (minutes)': 47.45,\n",
       "    'model_data_size': '16G'},\n",
       "   'score': {'synonyms': 0.06, 'homonyms': 0.04, 'antonyms': -0.1}},\n",
       "  'm2': {'eval_gold_data': 'eval_data_lowercase.yaml',\n",
       "   'model_details': {'training_description': 'glove test model',\n",
       "    'train_data_description': '10% sample of german wikipedia, single txt, one article per line, lowercased, removed punctuation',\n",
       "    'train_data_size': '679M',\n",
       "    'train_data_md5_hash': '09bd7f10c1437cc41e32fdda80ba4a34',\n",
       "    'verbose': '2',\n",
       "    'memory': '4',\n",
       "    'vocab_min_count': '5',\n",
       "    'vector_size': '200',\n",
       "    'max_iter': '100',\n",
       "    'window_size': '15',\n",
       "    'binary': '2',\n",
       "    'num_threads': '14',\n",
       "    'x_max': '10',\n",
       "    'training_duration (minutes)': 391.06,\n",
       "    'model_data_size': '16G'},\n",
       "   'score': {'synonyms': 0.07, 'homonyms': 0.01, 'antonyms': -0.12}}}}"
      ]
     },
     "execution_count": 43,
     "metadata": {},
     "output_type": "execute_result"
    }
   ],
   "source": [
    "eval_summary"
   ]
  },
  {
   "cell_type": "code",
   "execution_count": 310,
   "id": "e669ed76-8fa2-4b1b-ba84-5ae3caa2acb7",
   "metadata": {},
   "outputs": [
    {
     "data": {
      "text/html": [
       "<div>\n",
       "<style scoped>\n",
       "    .dataframe tbody tr th:only-of-type {\n",
       "        vertical-align: middle;\n",
       "    }\n",
       "\n",
       "    .dataframe tbody tr th {\n",
       "        vertical-align: top;\n",
       "    }\n",
       "\n",
       "    .dataframe thead th {\n",
       "        text-align: right;\n",
       "    }\n",
       "</style>\n",
       "<table border=\"1\" class=\"dataframe\">\n",
       "  <thead>\n",
       "    <tr style=\"text-align: right;\">\n",
       "      <th></th>\n",
       "      <th>model id</th>\n",
       "      <th>score synonyms</th>\n",
       "      <th>score homonyms</th>\n",
       "      <th>score antonyms</th>\n",
       "      <th>vector size</th>\n",
       "      <th>min word count</th>\n",
       "      <th>training epochs</th>\n",
       "      <th>training duration (hours)</th>\n",
       "      <th>model data size (GB)</th>\n",
       "      <th>train data size (GB)</th>\n",
       "      <th>train data hash</th>\n",
       "    </tr>\n",
       "  </thead>\n",
       "  <tbody>\n",
       "    <tr>\n",
       "      <th>0</th>\n",
       "      <td>f1</td>\n",
       "      <td>0.04</td>\n",
       "      <td>0.09</td>\n",
       "      <td>-0.04</td>\n",
       "      <td>200</td>\n",
       "      <td>-1</td>\n",
       "      <td>10</td>\n",
       "      <td>0</td>\n",
       "      <td>2.400</td>\n",
       "      <td>0.685</td>\n",
       "      <td>9683602e</td>\n",
       "    </tr>\n",
       "    <tr>\n",
       "      <th>1</th>\n",
       "      <td>f2</td>\n",
       "      <td>0.06</td>\n",
       "      <td>0.10</td>\n",
       "      <td>-0.06</td>\n",
       "      <td>200</td>\n",
       "      <td>-1</td>\n",
       "      <td>100</td>\n",
       "      <td>6</td>\n",
       "      <td>2.400</td>\n",
       "      <td>0.685</td>\n",
       "      <td>9683602e</td>\n",
       "    </tr>\n",
       "    <tr>\n",
       "      <th>2</th>\n",
       "      <td>w1</td>\n",
       "      <td>0.09</td>\n",
       "      <td>0.05</td>\n",
       "      <td>-0.08</td>\n",
       "      <td>200</td>\n",
       "      <td>5</td>\n",
       "      <td>10</td>\n",
       "      <td>0</td>\n",
       "      <td>0.019</td>\n",
       "      <td>0.685</td>\n",
       "      <td>9683602e</td>\n",
       "    </tr>\n",
       "    <tr>\n",
       "      <th>3</th>\n",
       "      <td>w2</td>\n",
       "      <td>0.08</td>\n",
       "      <td>0.04</td>\n",
       "      <td>-0.07</td>\n",
       "      <td>200</td>\n",
       "      <td>5</td>\n",
       "      <td>100</td>\n",
       "      <td>3</td>\n",
       "      <td>0.019</td>\n",
       "      <td>0.685</td>\n",
       "      <td>9683602e</td>\n",
       "    </tr>\n",
       "    <tr>\n",
       "      <th>4</th>\n",
       "      <td>g1</td>\n",
       "      <td>0.06</td>\n",
       "      <td>0.04</td>\n",
       "      <td>-0.10</td>\n",
       "      <td>200</td>\n",
       "      <td>5</td>\n",
       "      <td>10</td>\n",
       "      <td>0</td>\n",
       "      <td>16.000</td>\n",
       "      <td>0.679</td>\n",
       "      <td>09bd7f10</td>\n",
       "    </tr>\n",
       "    <tr>\n",
       "      <th>5</th>\n",
       "      <td>g2</td>\n",
       "      <td>0.07</td>\n",
       "      <td>0.01</td>\n",
       "      <td>-0.12</td>\n",
       "      <td>200</td>\n",
       "      <td>5</td>\n",
       "      <td>100</td>\n",
       "      <td>6</td>\n",
       "      <td>16.000</td>\n",
       "      <td>0.679</td>\n",
       "      <td>09bd7f10</td>\n",
       "    </tr>\n",
       "  </tbody>\n",
       "</table>\n",
       "</div>"
      ],
      "text/plain": [
       "  model id  score synonyms  score homonyms  score antonyms  vector size  \\\n",
       "0       f1            0.04            0.09           -0.04          200   \n",
       "1       f2            0.06            0.10           -0.06          200   \n",
       "2       w1            0.09            0.05           -0.08          200   \n",
       "3       w2            0.08            0.04           -0.07          200   \n",
       "4       g1            0.06            0.04           -0.10          200   \n",
       "5       g2            0.07            0.01           -0.12          200   \n",
       "\n",
       "   min word count  training epochs  training duration (hours)  \\\n",
       "0              -1               10                          0   \n",
       "1              -1              100                          6   \n",
       "2               5               10                          0   \n",
       "3               5              100                          3   \n",
       "4               5               10                          0   \n",
       "5               5              100                          6   \n",
       "\n",
       "   model data size (GB)  train data size (GB) train data hash  \n",
       "0                 2.400                 0.685        9683602e  \n",
       "1                 2.400                 0.685        9683602e  \n",
       "2                 0.019                 0.685        9683602e  \n",
       "3                 0.019                 0.685        9683602e  \n",
       "4                16.000                 0.679        09bd7f10  \n",
       "5                16.000                 0.679        09bd7f10  "
      ]
     },
     "execution_count": 310,
     "metadata": {},
     "output_type": "execute_result"
    }
   ],
   "source": [
    "def normalize_size(size_str):\n",
    "    if size_str.endswith(\"G\"):\n",
    "        return float(size_str[:-1])\n",
    "    elif size_str.endswith(\"M\"):\n",
    "        return float(size_str[:-1]) / 1000\n",
    "    else:\n",
    "        raise Exception\n",
    "\n",
    "def normalize_epochs(model_id_details_dict):\n",
    "    if \"training_epochs\" in model_id_details_dict:\n",
    "        return int(model_id_details_dict[\"training_epochs\"])\n",
    "    elif \"max_iter\" in model_id_details_dict:\n",
    "        return int(model_id_details_dict[\"max_iter\"])\n",
    "    else:\n",
    "        raise Exception\n",
    "\n",
    "def normalize_vectors(model_id_details_dict):\n",
    "    if \"vector_size\" in model_id_details_dict:\n",
    "        return int(model_id_details_dict[\"vector_size\"])\n",
    "    elif \"training_vector_size\" in model_id_details_dict:\n",
    "        return int(model_id_details_dict[\"training_vector_size\"])\n",
    "    else:\n",
    "        raise Exception\n",
    "\n",
    "def normalize_min_count(model_id_details_dict):\n",
    "    if \"vocab_min_count\" in model_id_details_dict:\n",
    "        return int(model_id_details_dict[\"vocab_min_count\"])\n",
    "    elif \"min_count\" in model_id_details_dict:\n",
    "        return int(model_id_details_dict[\"min_count\"])\n",
    "    else:\n",
    "        return -1\n",
    "    \n",
    "\n",
    "df = pd.DataFrame()\n",
    "for model_arch, model_arch_dict in eval_summary.items():\n",
    "    model_arch_noramlized = model_arch[:1]\n",
    "    for model_id, model_id_dict in model_arch_dict.items():\n",
    "        model_id_details_dict = model_id_dict[\"model_details\"]\n",
    "        model_id_score_dict = model_id_dict[\"score\"]\n",
    "        df_tmp = pd.DataFrame(\n",
    "            {\n",
    "                \"model id\": [model_arch_noramlized + model_id[-1]],\n",
    "                \"score synonyms\": [model_id_score_dict[\"synonyms\"]],\n",
    "                \"score homonyms\": [model_id_score_dict[\"homonyms\"]],\n",
    "                \"score antonyms\": [model_id_score_dict[\"antonyms\"]],\n",
    "                \"vector size\": normalize_vectors(model_id_details_dict),\n",
    "                \"min word count\": normalize_min_count(model_id_details_dict),\n",
    "                \"training epochs\": normalize_epochs(model_id_details_dict),\n",
    "                \"training duration (hours)\": int(model_id_details_dict[\"training_duration (minutes)\"] / 60),\n",
    "                \"model data size (GB)\": [normalize_size(model_id_details_dict[\"model_data_size\"])],\n",
    "                \"train data size (GB)\": [normalize_size(model_id_details_dict[\"train_data_size\"])],\n",
    "                \"train data hash\": model_id_details_dict[\"train_data_md5_hash\"][:8],\n",
    "            }\n",
    "        )\n",
    "        df = pd.concat([df, df_tmp], ignore_index=True)\n",
    "df"
   ]
  },
  {
   "cell_type": "code",
   "execution_count": 308,
   "id": "2006286c-3e5b-445c-bd70-80a4317207fd",
   "metadata": {},
   "outputs": [],
   "source": [
    "def create_axis(df, col_name):\n",
    "\n",
    "    # check if this column has any non-numeric value\n",
    "    is_numeric = True\n",
    "    for row in df.iterrows():\n",
    "        row_list = row[1].to_list()\n",
    "        try:\n",
    "            round(row_list[1], 3)\n",
    "        except:\n",
    "            is_numeric = False\n",
    "            break\n",
    "\n",
    "    # iterate over rows and create potentially compressed value-label pairs\n",
    "    value_list = []\n",
    "    ticks_dict = {}\n",
    "    non_numeric_dict = {}\n",
    "    for row in df.iterrows():\n",
    "\n",
    "        # get label and value from row\n",
    "        row_list = row[1].to_list()\n",
    "        label = row_list[0]\n",
    "        value = row_list[1]\n",
    "        try:\n",
    "            value = round(value, 3)\n",
    "        except:\n",
    "            pass\n",
    "\n",
    "        # merge labels if values already occurred before\n",
    "        label_pre = ticks_dict.get(value)\n",
    "        if label_pre is not None:\n",
    "            label = label_pre + \",\" + label\n",
    "        ticks_dict[value] = label\n",
    "\n",
    "        # handle non-numeric values, by creating fake numeric values\n",
    "        if is_numeric:\n",
    "            value_list.append(value)\n",
    "        else:\n",
    "            fake_value = non_numeric_dict.get(value)\n",
    "            if fake_value is None:\n",
    "                fake_value = len(non_numeric_dict) + 1\n",
    "            non_numeric_dict[value] = fake_value\n",
    "            value_list.append(fake_value)\n",
    "\n",
    "    # create main label and value data structure for plotly's tick attributes\n",
    "    tick_label_list = []\n",
    "    tick_value_list = []\n",
    "    for value, label in ticks_dict.items():\n",
    "        tick_label_list.append(label + \": \" + str(value))\n",
    "        if is_numeric:\n",
    "            tick_value_list.append(value)\n",
    "        else:\n",
    "            tick_value_list.append(non_numeric_dict[value])\n",
    "        \n",
    "    return {\n",
    "        \"tickvals\": tick_value_list,\n",
    "        \"ticktext\": tick_label_list,\n",
    "        \"label\": col_name,\n",
    "        \"values\": value_list,\n",
    "    }\n",
    "\n",
    "def create_dimensions(df):\n",
    "    dim_list = []\n",
    "    for col_name in df:\n",
    "        if col_name != \"model id\":\n",
    "            dim_list.append(create_axis(df[[\"model id\", col_name]], col_name))\n",
    "    return dim_list\n",
    "    \n",
    "dim_list = create_dimensions(df)"
   ]
  },
  {
   "cell_type": "code",
   "execution_count": 311,
   "id": "b1411459-fc90-45c2-910b-a4de6613ff11",
   "metadata": {},
   "outputs": [
    {
     "data": {
      "application/vnd.plotly.v1+json": {
       "config": {
        "plotlyServerURL": "https://plot.ly"
       },
       "data": [
        {
         "dimensions": [
          {
           "label": "score synonyms",
           "ticktext": [
            "f1: 0.04",
            "f2,g1: 0.06",
            "g2: 0.07",
            "w2: 0.08",
            "w1: 0.09"
           ],
           "tickvals": [
            0.04,
            0.06,
            0.07,
            0.08,
            0.09
           ],
           "values": [
            0.04,
            0.06,
            0.09,
            0.08,
            0.06,
            0.07
           ]
          },
          {
           "label": "score homonyms",
           "ticktext": [
            "g2: 0.01",
            "w2,g1: 0.04",
            "w1: 0.05",
            "f1: 0.09",
            "f2: 0.1"
           ],
           "tickvals": [
            0.01,
            0.04,
            0.05,
            0.09,
            0.1
           ],
           "values": [
            0.09,
            0.1,
            0.05,
            0.04,
            0.04,
            0.01
           ]
          },
          {
           "label": "score antonyms",
           "ticktext": [
            "g2: -0.12",
            "g1: -0.1",
            "w1: -0.08",
            "w2: -0.07",
            "f2: -0.06",
            "f1: -0.04"
           ],
           "tickvals": [
            -0.12,
            -0.1,
            -0.08,
            -0.07,
            -0.06,
            -0.04
           ],
           "values": [
            -0.04,
            -0.06,
            -0.08,
            -0.07,
            -0.1,
            -0.12
           ]
          },
          {
           "label": "vector size",
           "ticktext": [
            "f1,f2,w1,w2,g1,g2: 200"
           ],
           "tickvals": [
            200
           ],
           "values": [
            200,
            200,
            200,
            200,
            200,
            200
           ]
          },
          {
           "label": "min word count",
           "ticktext": [
            "f1,f2: -1",
            "w1,w2,g1,g2: 5"
           ],
           "tickvals": [
            -1,
            5
           ],
           "values": [
            -1,
            -1,
            5,
            5,
            5,
            5
           ]
          },
          {
           "label": "training epochs",
           "ticktext": [
            "f1,w1,g1: 10",
            "f2,w2,g2: 100"
           ],
           "tickvals": [
            10,
            100
           ],
           "values": [
            10,
            100,
            10,
            100,
            10,
            100
           ]
          },
          {
           "label": "training duration (hours)",
           "ticktext": [
            "f1,w1,g1: 0",
            "w2: 3",
            "f2,g2: 6"
           ],
           "tickvals": [
            0,
            3,
            6
           ],
           "values": [
            0,
            6,
            0,
            3,
            0,
            6
           ]
          },
          {
           "label": "model data size (GB)",
           "ticktext": [
            "w1,w2: 0.019",
            "f1,f2: 2.4",
            "g1,g2: 16.0"
           ],
           "tickvals": [
            0.019,
            2.4,
            16
           ],
           "values": [
            2.4,
            2.4,
            0.019,
            0.019,
            16,
            16
           ]
          },
          {
           "label": "train data size (GB)",
           "ticktext": [
            "g1,g2: 0.679",
            "f1,f2,w1,w2: 0.685"
           ],
           "tickvals": [
            0.679,
            0.685
           ],
           "values": [
            0.685,
            0.685,
            0.685,
            0.685,
            0.679,
            0.679
           ]
          },
          {
           "label": "train data hash",
           "ticktext": [
            "f1,f2,w1,w2: 9683",
            "g1,g2: 09bd"
           ],
           "tickvals": [
            1,
            2
           ],
           "values": [
            1,
            1,
            1,
            1,
            2,
            2
           ]
          }
         ],
         "line": {
          "color": [
           0,
           1,
           2,
           3,
           4,
           5
          ],
          "colorscale": [
           [
            0,
            "rgb(150,0,90)"
           ],
           [
            0.125,
            "rgb(0,0,200)"
           ],
           [
            0.25,
            "rgb(0,25,255)"
           ],
           [
            0.375,
            "rgb(0,152,255)"
           ],
           [
            0.5,
            "rgb(44,255,150)"
           ],
           [
            0.625,
            "rgb(151,255,0)"
           ],
           [
            0.75,
            "rgb(255,234,0)"
           ],
           [
            0.875,
            "rgb(255,111,0)"
           ],
           [
            1,
            "rgb(255,0,0)"
           ]
          ]
         },
         "type": "parcoords"
        }
       ],
       "layout": {
        "autosize": true,
        "template": {
         "data": {
          "bar": [
           {
            "error_x": {
             "color": "#2a3f5f"
            },
            "error_y": {
             "color": "#2a3f5f"
            },
            "marker": {
             "line": {
              "color": "#E5ECF6",
              "width": 0.5
             },
             "pattern": {
              "fillmode": "overlay",
              "size": 10,
              "solidity": 0.2
             }
            },
            "type": "bar"
           }
          ],
          "barpolar": [
           {
            "marker": {
             "line": {
              "color": "#E5ECF6",
              "width": 0.5
             },
             "pattern": {
              "fillmode": "overlay",
              "size": 10,
              "solidity": 0.2
             }
            },
            "type": "barpolar"
           }
          ],
          "carpet": [
           {
            "aaxis": {
             "endlinecolor": "#2a3f5f",
             "gridcolor": "white",
             "linecolor": "white",
             "minorgridcolor": "white",
             "startlinecolor": "#2a3f5f"
            },
            "baxis": {
             "endlinecolor": "#2a3f5f",
             "gridcolor": "white",
             "linecolor": "white",
             "minorgridcolor": "white",
             "startlinecolor": "#2a3f5f"
            },
            "type": "carpet"
           }
          ],
          "choropleth": [
           {
            "colorbar": {
             "outlinewidth": 0,
             "ticks": ""
            },
            "type": "choropleth"
           }
          ],
          "contour": [
           {
            "colorbar": {
             "outlinewidth": 0,
             "ticks": ""
            },
            "colorscale": [
             [
              0,
              "#0d0887"
             ],
             [
              0.1111111111111111,
              "#46039f"
             ],
             [
              0.2222222222222222,
              "#7201a8"
             ],
             [
              0.3333333333333333,
              "#9c179e"
             ],
             [
              0.4444444444444444,
              "#bd3786"
             ],
             [
              0.5555555555555556,
              "#d8576b"
             ],
             [
              0.6666666666666666,
              "#ed7953"
             ],
             [
              0.7777777777777778,
              "#fb9f3a"
             ],
             [
              0.8888888888888888,
              "#fdca26"
             ],
             [
              1,
              "#f0f921"
             ]
            ],
            "type": "contour"
           }
          ],
          "contourcarpet": [
           {
            "colorbar": {
             "outlinewidth": 0,
             "ticks": ""
            },
            "type": "contourcarpet"
           }
          ],
          "heatmap": [
           {
            "colorbar": {
             "outlinewidth": 0,
             "ticks": ""
            },
            "colorscale": [
             [
              0,
              "#0d0887"
             ],
             [
              0.1111111111111111,
              "#46039f"
             ],
             [
              0.2222222222222222,
              "#7201a8"
             ],
             [
              0.3333333333333333,
              "#9c179e"
             ],
             [
              0.4444444444444444,
              "#bd3786"
             ],
             [
              0.5555555555555556,
              "#d8576b"
             ],
             [
              0.6666666666666666,
              "#ed7953"
             ],
             [
              0.7777777777777778,
              "#fb9f3a"
             ],
             [
              0.8888888888888888,
              "#fdca26"
             ],
             [
              1,
              "#f0f921"
             ]
            ],
            "type": "heatmap"
           }
          ],
          "heatmapgl": [
           {
            "colorbar": {
             "outlinewidth": 0,
             "ticks": ""
            },
            "colorscale": [
             [
              0,
              "#0d0887"
             ],
             [
              0.1111111111111111,
              "#46039f"
             ],
             [
              0.2222222222222222,
              "#7201a8"
             ],
             [
              0.3333333333333333,
              "#9c179e"
             ],
             [
              0.4444444444444444,
              "#bd3786"
             ],
             [
              0.5555555555555556,
              "#d8576b"
             ],
             [
              0.6666666666666666,
              "#ed7953"
             ],
             [
              0.7777777777777778,
              "#fb9f3a"
             ],
             [
              0.8888888888888888,
              "#fdca26"
             ],
             [
              1,
              "#f0f921"
             ]
            ],
            "type": "heatmapgl"
           }
          ],
          "histogram": [
           {
            "marker": {
             "pattern": {
              "fillmode": "overlay",
              "size": 10,
              "solidity": 0.2
             }
            },
            "type": "histogram"
           }
          ],
          "histogram2d": [
           {
            "colorbar": {
             "outlinewidth": 0,
             "ticks": ""
            },
            "colorscale": [
             [
              0,
              "#0d0887"
             ],
             [
              0.1111111111111111,
              "#46039f"
             ],
             [
              0.2222222222222222,
              "#7201a8"
             ],
             [
              0.3333333333333333,
              "#9c179e"
             ],
             [
              0.4444444444444444,
              "#bd3786"
             ],
             [
              0.5555555555555556,
              "#d8576b"
             ],
             [
              0.6666666666666666,
              "#ed7953"
             ],
             [
              0.7777777777777778,
              "#fb9f3a"
             ],
             [
              0.8888888888888888,
              "#fdca26"
             ],
             [
              1,
              "#f0f921"
             ]
            ],
            "type": "histogram2d"
           }
          ],
          "histogram2dcontour": [
           {
            "colorbar": {
             "outlinewidth": 0,
             "ticks": ""
            },
            "colorscale": [
             [
              0,
              "#0d0887"
             ],
             [
              0.1111111111111111,
              "#46039f"
             ],
             [
              0.2222222222222222,
              "#7201a8"
             ],
             [
              0.3333333333333333,
              "#9c179e"
             ],
             [
              0.4444444444444444,
              "#bd3786"
             ],
             [
              0.5555555555555556,
              "#d8576b"
             ],
             [
              0.6666666666666666,
              "#ed7953"
             ],
             [
              0.7777777777777778,
              "#fb9f3a"
             ],
             [
              0.8888888888888888,
              "#fdca26"
             ],
             [
              1,
              "#f0f921"
             ]
            ],
            "type": "histogram2dcontour"
           }
          ],
          "mesh3d": [
           {
            "colorbar": {
             "outlinewidth": 0,
             "ticks": ""
            },
            "type": "mesh3d"
           }
          ],
          "parcoords": [
           {
            "line": {
             "colorbar": {
              "outlinewidth": 0,
              "ticks": ""
             }
            },
            "type": "parcoords"
           }
          ],
          "pie": [
           {
            "automargin": true,
            "type": "pie"
           }
          ],
          "scatter": [
           {
            "fillpattern": {
             "fillmode": "overlay",
             "size": 10,
             "solidity": 0.2
            },
            "type": "scatter"
           }
          ],
          "scatter3d": [
           {
            "line": {
             "colorbar": {
              "outlinewidth": 0,
              "ticks": ""
             }
            },
            "marker": {
             "colorbar": {
              "outlinewidth": 0,
              "ticks": ""
             }
            },
            "type": "scatter3d"
           }
          ],
          "scattercarpet": [
           {
            "marker": {
             "colorbar": {
              "outlinewidth": 0,
              "ticks": ""
             }
            },
            "type": "scattercarpet"
           }
          ],
          "scattergeo": [
           {
            "marker": {
             "colorbar": {
              "outlinewidth": 0,
              "ticks": ""
             }
            },
            "type": "scattergeo"
           }
          ],
          "scattergl": [
           {
            "marker": {
             "colorbar": {
              "outlinewidth": 0,
              "ticks": ""
             }
            },
            "type": "scattergl"
           }
          ],
          "scattermapbox": [
           {
            "marker": {
             "colorbar": {
              "outlinewidth": 0,
              "ticks": ""
             }
            },
            "type": "scattermapbox"
           }
          ],
          "scatterpolar": [
           {
            "marker": {
             "colorbar": {
              "outlinewidth": 0,
              "ticks": ""
             }
            },
            "type": "scatterpolar"
           }
          ],
          "scatterpolargl": [
           {
            "marker": {
             "colorbar": {
              "outlinewidth": 0,
              "ticks": ""
             }
            },
            "type": "scatterpolargl"
           }
          ],
          "scatterternary": [
           {
            "marker": {
             "colorbar": {
              "outlinewidth": 0,
              "ticks": ""
             }
            },
            "type": "scatterternary"
           }
          ],
          "surface": [
           {
            "colorbar": {
             "outlinewidth": 0,
             "ticks": ""
            },
            "colorscale": [
             [
              0,
              "#0d0887"
             ],
             [
              0.1111111111111111,
              "#46039f"
             ],
             [
              0.2222222222222222,
              "#7201a8"
             ],
             [
              0.3333333333333333,
              "#9c179e"
             ],
             [
              0.4444444444444444,
              "#bd3786"
             ],
             [
              0.5555555555555556,
              "#d8576b"
             ],
             [
              0.6666666666666666,
              "#ed7953"
             ],
             [
              0.7777777777777778,
              "#fb9f3a"
             ],
             [
              0.8888888888888888,
              "#fdca26"
             ],
             [
              1,
              "#f0f921"
             ]
            ],
            "type": "surface"
           }
          ],
          "table": [
           {
            "cells": {
             "fill": {
              "color": "#EBF0F8"
             },
             "line": {
              "color": "white"
             }
            },
            "header": {
             "fill": {
              "color": "#C8D4E3"
             },
             "line": {
              "color": "white"
             }
            },
            "type": "table"
           }
          ]
         },
         "layout": {
          "annotationdefaults": {
           "arrowcolor": "#2a3f5f",
           "arrowhead": 0,
           "arrowwidth": 1
          },
          "autotypenumbers": "strict",
          "coloraxis": {
           "colorbar": {
            "outlinewidth": 0,
            "ticks": ""
           }
          },
          "colorscale": {
           "diverging": [
            [
             0,
             "#8e0152"
            ],
            [
             0.1,
             "#c51b7d"
            ],
            [
             0.2,
             "#de77ae"
            ],
            [
             0.3,
             "#f1b6da"
            ],
            [
             0.4,
             "#fde0ef"
            ],
            [
             0.5,
             "#f7f7f7"
            ],
            [
             0.6,
             "#e6f5d0"
            ],
            [
             0.7,
             "#b8e186"
            ],
            [
             0.8,
             "#7fbc41"
            ],
            [
             0.9,
             "#4d9221"
            ],
            [
             1,
             "#276419"
            ]
           ],
           "sequential": [
            [
             0,
             "#0d0887"
            ],
            [
             0.1111111111111111,
             "#46039f"
            ],
            [
             0.2222222222222222,
             "#7201a8"
            ],
            [
             0.3333333333333333,
             "#9c179e"
            ],
            [
             0.4444444444444444,
             "#bd3786"
            ],
            [
             0.5555555555555556,
             "#d8576b"
            ],
            [
             0.6666666666666666,
             "#ed7953"
            ],
            [
             0.7777777777777778,
             "#fb9f3a"
            ],
            [
             0.8888888888888888,
             "#fdca26"
            ],
            [
             1,
             "#f0f921"
            ]
           ],
           "sequentialminus": [
            [
             0,
             "#0d0887"
            ],
            [
             0.1111111111111111,
             "#46039f"
            ],
            [
             0.2222222222222222,
             "#7201a8"
            ],
            [
             0.3333333333333333,
             "#9c179e"
            ],
            [
             0.4444444444444444,
             "#bd3786"
            ],
            [
             0.5555555555555556,
             "#d8576b"
            ],
            [
             0.6666666666666666,
             "#ed7953"
            ],
            [
             0.7777777777777778,
             "#fb9f3a"
            ],
            [
             0.8888888888888888,
             "#fdca26"
            ],
            [
             1,
             "#f0f921"
            ]
           ]
          },
          "colorway": [
           "#636efa",
           "#EF553B",
           "#00cc96",
           "#ab63fa",
           "#FFA15A",
           "#19d3f3",
           "#FF6692",
           "#B6E880",
           "#FF97FF",
           "#FECB52"
          ],
          "font": {
           "color": "#2a3f5f"
          },
          "geo": {
           "bgcolor": "white",
           "lakecolor": "white",
           "landcolor": "#E5ECF6",
           "showlakes": true,
           "showland": true,
           "subunitcolor": "white"
          },
          "hoverlabel": {
           "align": "left"
          },
          "hovermode": "closest",
          "mapbox": {
           "style": "light"
          },
          "paper_bgcolor": "white",
          "plot_bgcolor": "#E5ECF6",
          "polar": {
           "angularaxis": {
            "gridcolor": "white",
            "linecolor": "white",
            "ticks": ""
           },
           "bgcolor": "#E5ECF6",
           "radialaxis": {
            "gridcolor": "white",
            "linecolor": "white",
            "ticks": ""
           }
          },
          "scene": {
           "xaxis": {
            "backgroundcolor": "#E5ECF6",
            "gridcolor": "white",
            "gridwidth": 2,
            "linecolor": "white",
            "showbackground": true,
            "ticks": "",
            "zerolinecolor": "white"
           },
           "yaxis": {
            "backgroundcolor": "#E5ECF6",
            "gridcolor": "white",
            "gridwidth": 2,
            "linecolor": "white",
            "showbackground": true,
            "ticks": "",
            "zerolinecolor": "white"
           },
           "zaxis": {
            "backgroundcolor": "#E5ECF6",
            "gridcolor": "white",
            "gridwidth": 2,
            "linecolor": "white",
            "showbackground": true,
            "ticks": "",
            "zerolinecolor": "white"
           }
          },
          "shapedefaults": {
           "line": {
            "color": "#2a3f5f"
           }
          },
          "ternary": {
           "aaxis": {
            "gridcolor": "white",
            "linecolor": "white",
            "ticks": ""
           },
           "baxis": {
            "gridcolor": "white",
            "linecolor": "white",
            "ticks": ""
           },
           "bgcolor": "#E5ECF6",
           "caxis": {
            "gridcolor": "white",
            "linecolor": "white",
            "ticks": ""
           }
          },
          "title": {
           "x": 0.05
          },
          "xaxis": {
           "automargin": true,
           "gridcolor": "white",
           "linecolor": "white",
           "ticks": "",
           "title": {
            "standoff": 15
           },
           "zerolinecolor": "white",
           "zerolinewidth": 2
          },
          "yaxis": {
           "automargin": true,
           "gridcolor": "white",
           "linecolor": "white",
           "ticks": "",
           "title": {
            "standoff": 15
           },
           "zerolinecolor": "white",
           "zerolinewidth": 2
          }
         }
        }
       }
      },
      "image/png": "[encoded data removed]",
      "text/html": [
       "<div>                            <div id=\"c9559aec-c341-4eb3-97f5-89f7e627c8c8\" class=\"plotly-graph-div\" style=\"height:600px; width:100%;\"></div>            <script type=\"text/javascript\">                require([\"plotly\"], function(Plotly) {                    window.PLOTLYENV=window.PLOTLYENV || {};                                    if (document.getElementById(\"c9559aec-c341-4eb3-97f5-89f7e627c8c8\")) {                    Plotly.newPlot(                        \"c9559aec-c341-4eb3-97f5-89f7e627c8c8\",                        [{\"dimensions\":[{\"label\":\"score synonyms\",\"ticktext\":[\"f1: 0.04\",\"f2,g1: 0.06\",\"w1: 0.09\",\"w2: 0.08\",\"g2: 0.07\"],\"tickvals\":[0.04,0.06,0.09,0.08,0.07],\"values\":[0.04,0.06,0.09,0.08,0.06,0.07]},{\"label\":\"score homonyms\",\"ticktext\":[\"f1: 0.09\",\"f2: 0.1\",\"w1: 0.05\",\"w2,g1: 0.04\",\"g2: 0.01\"],\"tickvals\":[0.09,0.1,0.05,0.04,0.01],\"values\":[0.09,0.1,0.05,0.04,0.04,0.01]},{\"label\":\"score antonyms\",\"ticktext\":[\"f1: -0.04\",\"f2: -0.06\",\"w1: -0.08\",\"w2: -0.07\",\"g1: -0.1\",\"g2: -0.12\"],\"tickvals\":[-0.04,-0.06,-0.08,-0.07,-0.1,-0.12],\"values\":[-0.04,-0.06,-0.08,-0.07,-0.1,-0.12]},{\"label\":\"vector size\",\"ticktext\":[\"f1,f2,w1,w2,g1,g2: 200\"],\"tickvals\":[200],\"values\":[200,200,200,200,200,200]},{\"label\":\"min word count\",\"ticktext\":[\"f1,f2: -1\",\"w1,w2,g1,g2: 5\"],\"tickvals\":[-1,5],\"values\":[-1,-1,5,5,5,5]},{\"label\":\"training epochs\",\"ticktext\":[\"f1,w1,g1: 10\",\"f2,w2,g2: 100\"],\"tickvals\":[10,100],\"values\":[10,100,10,100,10,100]},{\"label\":\"training duration (hours)\",\"ticktext\":[\"f1,w1,g1: 0\",\"f2,g2: 6\",\"w2: 3\"],\"tickvals\":[0,6,3],\"values\":[0,6,0,3,0,6]},{\"label\":\"model data size (GB)\",\"ticktext\":[\"f1,f2: 2.4\",\"w1,w2: 0.019\",\"g1,g2: 16.0\"],\"tickvals\":[2.4,0.019,16.0],\"values\":[2.4,2.4,0.019,0.019,16.0,16.0]},{\"label\":\"train data size (GB)\",\"ticktext\":[\"f1,f2,w1,w2: 0.685\",\"g1,g2: 0.679\"],\"tickvals\":[0.685,0.679],\"values\":[0.685,0.685,0.685,0.685,0.679,0.679]},{\"label\":\"train data hash\",\"ticktext\":[\"f1,f2,w1,w2: 9683\",\"g1,g2: 09bd\"],\"tickvals\":[1,2],\"values\":[1,1,1,1,2,2]}],\"line\":{\"color\":[0,1,2,3,4,5],\"colorscale\":[[0.0,\"rgb(150,0,90)\"],[0.125,\"rgb(0,0,200)\"],[0.25,\"rgb(0,25,255)\"],[0.375,\"rgb(0,152,255)\"],[0.5,\"rgb(44,255,150)\"],[0.625,\"rgb(151,255,0)\"],[0.75,\"rgb(255,234,0)\"],[0.875,\"rgb(255,111,0)\"],[1.0,\"rgb(255,0,0)\"]]},\"type\":\"parcoords\"}],                        {\"template\":{\"data\":{\"histogram2dcontour\":[{\"type\":\"histogram2dcontour\",\"colorbar\":{\"outlinewidth\":0,\"ticks\":\"\"},\"colorscale\":[[0.0,\"#0d0887\"],[0.1111111111111111,\"#46039f\"],[0.2222222222222222,\"#7201a8\"],[0.3333333333333333,\"#9c179e\"],[0.4444444444444444,\"#bd3786\"],[0.5555555555555556,\"#d8576b\"],[0.6666666666666666,\"#ed7953\"],[0.7777777777777778,\"#fb9f3a\"],[0.8888888888888888,\"#fdca26\"],[1.0,\"#f0f921\"]]}],\"choropleth\":[{\"type\":\"choropleth\",\"colorbar\":{\"outlinewidth\":0,\"ticks\":\"\"}}],\"histogram2d\":[{\"type\":\"histogram2d\",\"colorbar\":{\"outlinewidth\":0,\"ticks\":\"\"},\"colorscale\":[[0.0,\"#0d0887\"],[0.1111111111111111,\"#46039f\"],[0.2222222222222222,\"#7201a8\"],[0.3333333333333333,\"#9c179e\"],[0.4444444444444444,\"#bd3786\"],[0.5555555555555556,\"#d8576b\"],[0.6666666666666666,\"#ed7953\"],[0.7777777777777778,\"#fb9f3a\"],[0.8888888888888888,\"#fdca26\"],[1.0,\"#f0f921\"]]}],\"heatmap\":[{\"type\":\"heatmap\",\"colorbar\":{\"outlinewidth\":0,\"ticks\":\"\"},\"colorscale\":[[0.0,\"#0d0887\"],[0.1111111111111111,\"#46039f\"],[0.2222222222222222,\"#7201a8\"],[0.3333333333333333,\"#9c179e\"],[0.4444444444444444,\"#bd3786\"],[0.5555555555555556,\"#d8576b\"],[0.6666666666666666,\"#ed7953\"],[0.7777777777777778,\"#fb9f3a\"],[0.8888888888888888,\"#fdca26\"],[1.0,\"#f0f921\"]]}],\"heatmapgl\":[{\"type\":\"heatmapgl\",\"colorbar\":{\"outlinewidth\":0,\"ticks\":\"\"},\"colorscale\":[[0.0,\"#0d0887\"],[0.1111111111111111,\"#46039f\"],[0.2222222222222222,\"#7201a8\"],[0.3333333333333333,\"#9c179e\"],[0.4444444444444444,\"#bd3786\"],[0.5555555555555556,\"#d8576b\"],[0.6666666666666666,\"#ed7953\"],[0.7777777777777778,\"#fb9f3a\"],[0.8888888888888888,\"#fdca26\"],[1.0,\"#f0f921\"]]}],\"contourcarpet\":[{\"type\":\"contourcarpet\",\"colorbar\":{\"outlinewidth\":0,\"ticks\":\"\"}}],\"contour\":[{\"type\":\"contour\",\"colorbar\":{\"outlinewidth\":0,\"ticks\":\"\"},\"colorscale\":[[0.0,\"#0d0887\"],[0.1111111111111111,\"#46039f\"],[0.2222222222222222,\"#7201a8\"],[0.3333333333333333,\"#9c179e\"],[0.4444444444444444,\"#bd3786\"],[0.5555555555555556,\"#d8576b\"],[0.6666666666666666,\"#ed7953\"],[0.7777777777777778,\"#fb9f3a\"],[0.8888888888888888,\"#fdca26\"],[1.0,\"#f0f921\"]]}],\"surface\":[{\"type\":\"surface\",\"colorbar\":{\"outlinewidth\":0,\"ticks\":\"\"},\"colorscale\":[[0.0,\"#0d0887\"],[0.1111111111111111,\"#46039f\"],[0.2222222222222222,\"#7201a8\"],[0.3333333333333333,\"#9c179e\"],[0.4444444444444444,\"#bd3786\"],[0.5555555555555556,\"#d8576b\"],[0.6666666666666666,\"#ed7953\"],[0.7777777777777778,\"#fb9f3a\"],[0.8888888888888888,\"#fdca26\"],[1.0,\"#f0f921\"]]}],\"mesh3d\":[{\"type\":\"mesh3d\",\"colorbar\":{\"outlinewidth\":0,\"ticks\":\"\"}}],\"scatter\":[{\"fillpattern\":{\"fillmode\":\"overlay\",\"size\":10,\"solidity\":0.2},\"type\":\"scatter\"}],\"parcoords\":[{\"type\":\"parcoords\",\"line\":{\"colorbar\":{\"outlinewidth\":0,\"ticks\":\"\"}}}],\"scatterpolargl\":[{\"type\":\"scatterpolargl\",\"marker\":{\"colorbar\":{\"outlinewidth\":0,\"ticks\":\"\"}}}],\"bar\":[{\"error_x\":{\"color\":\"#2a3f5f\"},\"error_y\":{\"color\":\"#2a3f5f\"},\"marker\":{\"line\":{\"color\":\"#E5ECF6\",\"width\":0.5},\"pattern\":{\"fillmode\":\"overlay\",\"size\":10,\"solidity\":0.2}},\"type\":\"bar\"}],\"scattergeo\":[{\"type\":\"scattergeo\",\"marker\":{\"colorbar\":{\"outlinewidth\":0,\"ticks\":\"\"}}}],\"scatterpolar\":[{\"type\":\"scatterpolar\",\"marker\":{\"colorbar\":{\"outlinewidth\":0,\"ticks\":\"\"}}}],\"histogram\":[{\"marker\":{\"pattern\":{\"fillmode\":\"overlay\",\"size\":10,\"solidity\":0.2}},\"type\":\"histogram\"}],\"scattergl\":[{\"type\":\"scattergl\",\"marker\":{\"colorbar\":{\"outlinewidth\":0,\"ticks\":\"\"}}}],\"scatter3d\":[{\"type\":\"scatter3d\",\"line\":{\"colorbar\":{\"outlinewidth\":0,\"ticks\":\"\"}},\"marker\":{\"colorbar\":{\"outlinewidth\":0,\"ticks\":\"\"}}}],\"scattermapbox\":[{\"type\":\"scattermapbox\",\"marker\":{\"colorbar\":{\"outlinewidth\":0,\"ticks\":\"\"}}}],\"scatterternary\":[{\"type\":\"scatterternary\",\"marker\":{\"colorbar\":{\"outlinewidth\":0,\"ticks\":\"\"}}}],\"scattercarpet\":[{\"type\":\"scattercarpet\",\"marker\":{\"colorbar\":{\"outlinewidth\":0,\"ticks\":\"\"}}}],\"carpet\":[{\"aaxis\":{\"endlinecolor\":\"#2a3f5f\",\"gridcolor\":\"white\",\"linecolor\":\"white\",\"minorgridcolor\":\"white\",\"startlinecolor\":\"#2a3f5f\"},\"baxis\":{\"endlinecolor\":\"#2a3f5f\",\"gridcolor\":\"white\",\"linecolor\":\"white\",\"minorgridcolor\":\"white\",\"startlinecolor\":\"#2a3f5f\"},\"type\":\"carpet\"}],\"table\":[{\"cells\":{\"fill\":{\"color\":\"#EBF0F8\"},\"line\":{\"color\":\"white\"}},\"header\":{\"fill\":{\"color\":\"#C8D4E3\"},\"line\":{\"color\":\"white\"}},\"type\":\"table\"}],\"barpolar\":[{\"marker\":{\"line\":{\"color\":\"#E5ECF6\",\"width\":0.5},\"pattern\":{\"fillmode\":\"overlay\",\"size\":10,\"solidity\":0.2}},\"type\":\"barpolar\"}],\"pie\":[{\"automargin\":true,\"type\":\"pie\"}]},\"layout\":{\"autotypenumbers\":\"strict\",\"colorway\":[\"#636efa\",\"#EF553B\",\"#00cc96\",\"#ab63fa\",\"#FFA15A\",\"#19d3f3\",\"#FF6692\",\"#B6E880\",\"#FF97FF\",\"#FECB52\"],\"font\":{\"color\":\"#2a3f5f\"},\"hovermode\":\"closest\",\"hoverlabel\":{\"align\":\"left\"},\"paper_bgcolor\":\"white\",\"plot_bgcolor\":\"#E5ECF6\",\"polar\":{\"bgcolor\":\"#E5ECF6\",\"angularaxis\":{\"gridcolor\":\"white\",\"linecolor\":\"white\",\"ticks\":\"\"},\"radialaxis\":{\"gridcolor\":\"white\",\"linecolor\":\"white\",\"ticks\":\"\"}},\"ternary\":{\"bgcolor\":\"#E5ECF6\",\"aaxis\":{\"gridcolor\":\"white\",\"linecolor\":\"white\",\"ticks\":\"\"},\"baxis\":{\"gridcolor\":\"white\",\"linecolor\":\"white\",\"ticks\":\"\"},\"caxis\":{\"gridcolor\":\"white\",\"linecolor\":\"white\",\"ticks\":\"\"}},\"coloraxis\":{\"colorbar\":{\"outlinewidth\":0,\"ticks\":\"\"}},\"colorscale\":{\"sequential\":[[0.0,\"#0d0887\"],[0.1111111111111111,\"#46039f\"],[0.2222222222222222,\"#7201a8\"],[0.3333333333333333,\"#9c179e\"],[0.4444444444444444,\"#bd3786\"],[0.5555555555555556,\"#d8576b\"],[0.6666666666666666,\"#ed7953\"],[0.7777777777777778,\"#fb9f3a\"],[0.8888888888888888,\"#fdca26\"],[1.0,\"#f0f921\"]],\"sequentialminus\":[[0.0,\"#0d0887\"],[0.1111111111111111,\"#46039f\"],[0.2222222222222222,\"#7201a8\"],[0.3333333333333333,\"#9c179e\"],[0.4444444444444444,\"#bd3786\"],[0.5555555555555556,\"#d8576b\"],[0.6666666666666666,\"#ed7953\"],[0.7777777777777778,\"#fb9f3a\"],[0.8888888888888888,\"#fdca26\"],[1.0,\"#f0f921\"]],\"diverging\":[[0,\"#8e0152\"],[0.1,\"#c51b7d\"],[0.2,\"#de77ae\"],[0.3,\"#f1b6da\"],[0.4,\"#fde0ef\"],[0.5,\"#f7f7f7\"],[0.6,\"#e6f5d0\"],[0.7,\"#b8e186\"],[0.8,\"#7fbc41\"],[0.9,\"#4d9221\"],[1,\"#276419\"]]},\"xaxis\":{\"gridcolor\":\"white\",\"linecolor\":\"white\",\"ticks\":\"\",\"title\":{\"standoff\":15},\"zerolinecolor\":\"white\",\"automargin\":true,\"zerolinewidth\":2},\"yaxis\":{\"gridcolor\":\"white\",\"linecolor\":\"white\",\"ticks\":\"\",\"title\":{\"standoff\":15},\"zerolinecolor\":\"white\",\"automargin\":true,\"zerolinewidth\":2},\"scene\":{\"xaxis\":{\"backgroundcolor\":\"#E5ECF6\",\"gridcolor\":\"white\",\"linecolor\":\"white\",\"showbackground\":true,\"ticks\":\"\",\"zerolinecolor\":\"white\",\"gridwidth\":2},\"yaxis\":{\"backgroundcolor\":\"#E5ECF6\",\"gridcolor\":\"white\",\"linecolor\":\"white\",\"showbackground\":true,\"ticks\":\"\",\"zerolinecolor\":\"white\",\"gridwidth\":2},\"zaxis\":{\"backgroundcolor\":\"#E5ECF6\",\"gridcolor\":\"white\",\"linecolor\":\"white\",\"showbackground\":true,\"ticks\":\"\",\"zerolinecolor\":\"white\",\"gridwidth\":2}},\"shapedefaults\":{\"line\":{\"color\":\"#2a3f5f\"}},\"annotationdefaults\":{\"arrowcolor\":\"#2a3f5f\",\"arrowhead\":0,\"arrowwidth\":1},\"geo\":{\"bgcolor\":\"white\",\"landcolor\":\"#E5ECF6\",\"subunitcolor\":\"white\",\"showland\":true,\"showlakes\":true,\"lakecolor\":\"white\"},\"title\":{\"x\":0.05},\"mapbox\":{\"style\":\"light\"}}},\"height\":600},                        {\"responsive\": true}                    ).then(function(){\n",
       "                            \n",
       "var gd = document.getElementById('c9559aec-c341-4eb3-97f5-89f7e627c8c8');\n",
       "var x = new MutationObserver(function (mutations, observer) {{\n",
       "        var display = window.getComputedStyle(gd).display;\n",
       "        if (!display || display === 'none') {{\n",
       "            console.log([gd, 'removed!']);\n",
       "            Plotly.purge(gd);\n",
       "            observer.disconnect();\n",
       "        }}\n",
       "}});\n",
       "\n",
       "// Listen for the removal of the full notebook cells\n",
       "var notebookContainer = gd.closest('#notebook-container');\n",
       "if (notebookContainer) {{\n",
       "    x.observe(notebookContainer, {childList: true});\n",
       "}}\n",
       "\n",
       "// Listen for the clearing of the current output cell\n",
       "var outputEl = gd.closest('.output');\n",
       "if (outputEl) {{\n",
       "    x.observe(outputEl, {childList: true});\n",
       "}}\n",
       "\n",
       "                        })                };                });            </script>        </div>"
      ]
     },
     "metadata": {},
     "output_type": "display_data"
    }
   ],
   "source": [
    "fig = go.Figure(\n",
    "    data=go.Parcoords(\n",
    "        line={\"color\": list(df.index), \"colorscale\": 'Rainbow'},\n",
    "        dimensions=dim_list\n",
    "    )\n",
    ")\n",
    "fig.update_layout(height=600)\n",
    "fig.show()"
   ]
  }
 ],
 "metadata": {
  "kernelspec": {
   "display_name": "Python 3 (ipykernel)",
   "language": "python",
   "name": "python3"
  },
  "language_info": {
   "codemirror_mode": {
    "name": "ipython",
    "version": 3
   },
   "file_extension": ".py",
   "mimetype": "text/x-python",
   "name": "python",
   "nbconvert_exporter": "python",
   "pygments_lexer": "ipython3",
   "version": "3.11.10"
  }
 },
 "nbformat": 4,
 "nbformat_minor": 5
}
